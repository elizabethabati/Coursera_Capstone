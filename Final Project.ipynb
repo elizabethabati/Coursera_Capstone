{
    "cells": [
        {
            "cell_type": "markdown",
            "metadata": {
                "collapsed": true
            },
            "source": "# Capstone Project - The Battle of the Neighborhoods\n### Applied Data Science Capstone by IBM/Coursera"
        },
        {
            "cell_type": "markdown",
            "metadata": {},
            "source": "# Choosing the Best Location to Open a Turkish Restaurant in Bucharest, Romania"
        },
        {
            "cell_type": "markdown",
            "metadata": {},
            "source": "### Table of Contents\n* [Introduction](#introduction)\n* [Data](#data)\n* [Methodology](#methodology)\n* [Analysis](#analysis)\n* [Results and Discussion](#results)\n* [Conclusion](#conclusion)"
        },
        {
            "cell_type": "markdown",
            "metadata": {},
            "source": "## Introduction <a name=\"introduction\"></a>"
        },
        {
            "cell_type": "markdown",
            "metadata": {},
            "source": "### Background"
        },
        {
            "cell_type": "markdown",
            "metadata": {},
            "source": "Bucharest is the capital and largest city of Romania, as well as its cultural, industrial, and financial center. It is located in the southeast of the country, at coordinates:  44\u00b025\u203257\u2033N 26\u00b006\u203214\u2033E, less than 60 km (37.3 mi) north of the Danube River and the Bulgarian border.  \n\nBucharest is the center of the Romanian economy and industry, accounting for around 24% (2017) of the country's GDP and about one-quarter of its industrial production, while being inhabited by 9% of the country's population. Bucharest has 1.883.425 (2018) populations and consists of 6 sectors. Neighborhoods and populations in sectors are as below (2016): \n\n*\tSector 1 (population 227,717): Doroban\u021bi, B\u0103neasa, Avia\u021biei, Pipera, Prim\u0103verii, D\u0103m\u0103roaia, Grivi\u021ba\n*\tSector 2 (population 357,338): Pantelimon, Colentina, Iancului, Tei, Floreasca, Mo\u0219ilor, Obor, Fundeni, \n*\tSector 3 (population 399,231): Vitan, Dude\u0219ti, Titan, Centrul Civic, Dristor, Lipscani\n*\tSector 4 (population 300,331): Berceni, Olteni\u021bei,  Progresul, V\u0103c\u0103re\u0219ti, Tineretului\n*\tSector 5 (population 288,690): Rahova, Ferentari, Giurgiului, Cotroceni, 13 Septembrie, Dealul Spirii\n*\tSector 6 (population 371,060): Giule\u0219ti, Cr\u00e2nga\u0219i, Drumul Taberei, Militari, Groz\u0103ve\u0219ti(Regie), Ghencea\n\nAs stated by the Mercer international surveys for quality of life in 231 cities around the world, Bucharest occupied the 109th place in 2019. Bucharest, at number 109, ranks low in the European list but better than other European cities such as Sofia (116th) and Belgrade (139th).\n\nMany neighborhoods, particularly in the southern part of the city, lack sufficient green space, are formed of cramped high density block of flats. This may affect people\u2019s life as well. \n\n"
        },
        {
            "cell_type": "markdown",
            "metadata": {},
            "source": "### Problem"
        },
        {
            "cell_type": "markdown",
            "metadata": {},
            "source": "This project aims to select the best location in Bucharest, Romania for opening a Turkish restaurant. "
        },
        {
            "cell_type": "markdown",
            "metadata": {},
            "source": "### Interest"
        },
        {
            "cell_type": "markdown",
            "metadata": {},
            "source": "This project would be of interest to any entrepreneur who wants to open a new Turkish restaurant in Bucharest, Romania. In addition, the project can be modified for use to determine the best location to open a restaurant in any geeographic location, and thus would be of interest more widely for any one who wants to open a restaurant or even any business where location is a key factor to the success of the business. "
        },
        {
            "cell_type": "code",
            "execution_count": null,
            "metadata": {},
            "outputs": [],
            "source": ""
        },
        {
            "cell_type": "code",
            "execution_count": null,
            "metadata": {},
            "outputs": [],
            "source": ""
        }
    ],
    "metadata": {
        "kernelspec": {
            "display_name": "Python 3.6",
            "language": "python",
            "name": "python3"
        },
        "language_info": {
            "codemirror_mode": {
                "name": "ipython",
                "version": 3
            },
            "file_extension": ".py",
            "mimetype": "text/x-python",
            "name": "python",
            "nbconvert_exporter": "python",
            "pygments_lexer": "ipython3",
            "version": "3.6.9"
        }
    },
    "nbformat": 4,
    "nbformat_minor": 1
}